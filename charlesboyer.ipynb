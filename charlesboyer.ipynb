{
 "cells": [
  {
   "cell_type": "code",
   "execution_count": 6,
   "metadata": {},
   "outputs": [
    {
     "name": "stdout",
     "output_type": "stream",
     "text": [
      "Seance 1\n"
     ]
    }
   ],
   "source": [
    "print(\"Seance 1\");"
   ]
  },
  {
   "cell_type": "code",
   "execution_count": 2,
   "metadata": {},
   "outputs": [
    {
     "name": "stdout",
     "output_type": "stream",
     "text": [
      "Execice: Volume cone\n"
     ]
    }
   ],
   "source": []
  },
  {
   "cell_type": "code",
   "execution_count": 27,
   "metadata": {},
   "outputs": [
    {
     "name": "stdout",
     "output_type": "stream",
     "text": [
      "Execice 1: Volume cone\n",
      "Valeur du rayon: 4\n",
      "Valeur de la hauteur: 5\n",
      "Volume:  83.7758040957278\n"
     ]
    }
   ],
   "source": [
    "import math \n",
    "\n",
    "print(\"Execice 1: Cone\");\n",
    "\n",
    "rayon = input(\"Valeur du rayon: \");\n",
    "hauteur = input(\"Valeur de la hauteur: \");\n",
    "\n",
    "print(\"Volume: \",(1/3)*int(rayon)*int(rayon)*int(hauteur)*math.pi);"
   ]
  },
  {
   "cell_type": "code",
   "execution_count": 38,
   "metadata": {},
   "outputs": [
    {
     "name": "stdout",
     "output_type": "stream",
     "text": [
      "Exercice 2: Sommmes des cubes\n",
      "Valeur de n: 2\n",
      "Sn =  9\n"
     ]
    }
   ],
   "source": [
    "print(\"Exercice 2: Sommmes des cubes\")\n",
    "\n",
    "S = 0;\n",
    "n = int(input(\"Valeur de n: \"));\n",
    "\n",
    "for i in range(n+1):\n",
    "    S = S + i**3;\n",
    "    \n",
    "print(\"Sn = \", S);"
   ]
  },
  {
   "cell_type": "code",
   "execution_count": null,
   "metadata": {},
   "outputs": [],
   "source": [
    "print(\"\")"
   ]
  },
  {
   "cell_type": "code",
   "execution_count": null,
   "metadata": {},
   "outputs": [],
   "source": []
  }
 ],
 "metadata": {
  "kernelspec": {
   "display_name": "Python 3",
   "language": "python",
   "name": "python3"
  },
  "language_info": {
   "codemirror_mode": {
    "name": "ipython",
    "version": 3
   },
   "file_extension": ".py",
   "mimetype": "text/x-python",
   "name": "python",
   "nbconvert_exporter": "python",
   "pygments_lexer": "ipython3",
   "version": "3.7.6"
  }
 },
 "nbformat": 4,
 "nbformat_minor": 4
}
